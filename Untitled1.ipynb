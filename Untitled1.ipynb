{
 "cells": [
  {
   "cell_type": "code",
   "execution_count": 17,
   "id": "df7a40c0-527e-4b13-8bc1-df88aef1a9f9",
   "metadata": {},
   "outputs": [],
   "source": [
    "#importing the packages\n",
    "import pandas as pd\n",
    "import numpy as np\n",
    "import os"
   ]
  },
  {
   "cell_type": "code",
   "execution_count": 19,
   "id": "55bcbc21-4078-40f0-b8c5-77b73872b23a",
   "metadata": {},
   "outputs": [],
   "source": [
    "#Loading the cleaned dataset from kaggle for road accident reports\n",
    "os.chdir(\"C:\\\\Users\\\\amos\\\\Desktop\\\\year2sem2\\\\DataScience\")"
   ]
  },
  {
   "cell_type": "code",
   "execution_count": 21,
   "id": "50de95b1-7858-49b5-945c-6be671d30dd2",
   "metadata": {},
   "outputs": [
    {
     "data": {
      "text/html": [
       "<div>\n",
       "<style scoped>\n",
       "    .dataframe tbody tr th:only-of-type {\n",
       "        vertical-align: middle;\n",
       "    }\n",
       "\n",
       "    .dataframe tbody tr th {\n",
       "        vertical-align: top;\n",
       "    }\n",
       "\n",
       "    .dataframe thead th {\n",
       "        text-align: right;\n",
       "    }\n",
       "</style>\n",
       "<table border=\"1\" class=\"dataframe\">\n",
       "  <thead>\n",
       "    <tr style=\"text-align: right;\">\n",
       "      <th></th>\n",
       "      <th>Age_band_of_driver</th>\n",
       "      <th>Sex_of_driver</th>\n",
       "      <th>Educational_level</th>\n",
       "      <th>Vehicle_driver_relation</th>\n",
       "      <th>Driving_experience</th>\n",
       "      <th>Lanes_or_Medians</th>\n",
       "      <th>Types_of_Junction</th>\n",
       "      <th>Road_surface_type</th>\n",
       "      <th>Light_conditions</th>\n",
       "      <th>Weather_conditions</th>\n",
       "      <th>Type_of_collision</th>\n",
       "      <th>Vehicle_movement</th>\n",
       "      <th>Pedestrian_movement</th>\n",
       "      <th>Cause_of_accident</th>\n",
       "      <th>Accident_severity</th>\n",
       "    </tr>\n",
       "  </thead>\n",
       "  <tbody>\n",
       "    <tr>\n",
       "      <th>0</th>\n",
       "      <td>18-30</td>\n",
       "      <td>Male</td>\n",
       "      <td>Above high school</td>\n",
       "      <td>Employee</td>\n",
       "      <td>1-2yr</td>\n",
       "      <td>Unknown</td>\n",
       "      <td>No junction</td>\n",
       "      <td>Asphalt roads</td>\n",
       "      <td>Daylight</td>\n",
       "      <td>Normal</td>\n",
       "      <td>Collision with roadside-parked vehicles</td>\n",
       "      <td>Going straight</td>\n",
       "      <td>Not a Pedestrian</td>\n",
       "      <td>Moving Backward</td>\n",
       "      <td>2</td>\n",
       "    </tr>\n",
       "    <tr>\n",
       "      <th>1</th>\n",
       "      <td>31-50</td>\n",
       "      <td>Male</td>\n",
       "      <td>Junior high school</td>\n",
       "      <td>Employee</td>\n",
       "      <td>Above 10yr</td>\n",
       "      <td>Undivided Two way</td>\n",
       "      <td>No junction</td>\n",
       "      <td>Asphalt roads</td>\n",
       "      <td>Daylight</td>\n",
       "      <td>Normal</td>\n",
       "      <td>Vehicle with vehicle collision</td>\n",
       "      <td>Going straight</td>\n",
       "      <td>Not a Pedestrian</td>\n",
       "      <td>Overtaking</td>\n",
       "      <td>2</td>\n",
       "    </tr>\n",
       "    <tr>\n",
       "      <th>2</th>\n",
       "      <td>18-30</td>\n",
       "      <td>Male</td>\n",
       "      <td>Junior high school</td>\n",
       "      <td>Employee</td>\n",
       "      <td>1-2yr</td>\n",
       "      <td>other</td>\n",
       "      <td>No junction</td>\n",
       "      <td>Asphalt roads</td>\n",
       "      <td>Daylight</td>\n",
       "      <td>Normal</td>\n",
       "      <td>Collision with roadside objects</td>\n",
       "      <td>Going straight</td>\n",
       "      <td>Not a Pedestrian</td>\n",
       "      <td>Changing lane to the left</td>\n",
       "      <td>1</td>\n",
       "    </tr>\n",
       "    <tr>\n",
       "      <th>3</th>\n",
       "      <td>18-30</td>\n",
       "      <td>Male</td>\n",
       "      <td>Junior high school</td>\n",
       "      <td>Employee</td>\n",
       "      <td>5-10yr</td>\n",
       "      <td>other</td>\n",
       "      <td>Y Shape</td>\n",
       "      <td>Earth roads</td>\n",
       "      <td>Darkness - lights lit</td>\n",
       "      <td>Normal</td>\n",
       "      <td>Vehicle with vehicle collision</td>\n",
       "      <td>Going straight</td>\n",
       "      <td>Not a Pedestrian</td>\n",
       "      <td>Changing lane to the right</td>\n",
       "      <td>2</td>\n",
       "    </tr>\n",
       "    <tr>\n",
       "      <th>4</th>\n",
       "      <td>18-30</td>\n",
       "      <td>Male</td>\n",
       "      <td>Junior high school</td>\n",
       "      <td>Employee</td>\n",
       "      <td>2-5yr</td>\n",
       "      <td>other</td>\n",
       "      <td>Y Shape</td>\n",
       "      <td>Asphalt roads</td>\n",
       "      <td>Darkness - lights lit</td>\n",
       "      <td>Normal</td>\n",
       "      <td>Vehicle with vehicle collision</td>\n",
       "      <td>Going straight</td>\n",
       "      <td>Not a Pedestrian</td>\n",
       "      <td>Overtaking</td>\n",
       "      <td>2</td>\n",
       "    </tr>\n",
       "  </tbody>\n",
       "</table>\n",
       "</div>"
      ],
      "text/plain": [
       "  Age_band_of_driver Sex_of_driver   Educational_level  \\\n",
       "0              18-30          Male   Above high school   \n",
       "1              31-50          Male  Junior high school   \n",
       "2              18-30          Male  Junior high school   \n",
       "3              18-30          Male  Junior high school   \n",
       "4              18-30          Male  Junior high school   \n",
       "\n",
       "  Vehicle_driver_relation Driving_experience   Lanes_or_Medians  \\\n",
       "0                Employee              1-2yr            Unknown   \n",
       "1                Employee         Above 10yr  Undivided Two way   \n",
       "2                Employee              1-2yr              other   \n",
       "3                Employee             5-10yr              other   \n",
       "4                Employee              2-5yr              other   \n",
       "\n",
       "  Types_of_Junction Road_surface_type       Light_conditions  \\\n",
       "0       No junction     Asphalt roads               Daylight   \n",
       "1       No junction     Asphalt roads               Daylight   \n",
       "2       No junction     Asphalt roads               Daylight   \n",
       "3           Y Shape       Earth roads  Darkness - lights lit   \n",
       "4           Y Shape     Asphalt roads  Darkness - lights lit   \n",
       "\n",
       "  Weather_conditions                        Type_of_collision  \\\n",
       "0             Normal  Collision with roadside-parked vehicles   \n",
       "1             Normal           Vehicle with vehicle collision   \n",
       "2             Normal          Collision with roadside objects   \n",
       "3             Normal           Vehicle with vehicle collision   \n",
       "4             Normal           Vehicle with vehicle collision   \n",
       "\n",
       "  Vehicle_movement Pedestrian_movement           Cause_of_accident  \\\n",
       "0   Going straight    Not a Pedestrian             Moving Backward   \n",
       "1   Going straight    Not a Pedestrian                  Overtaking   \n",
       "2   Going straight    Not a Pedestrian   Changing lane to the left   \n",
       "3   Going straight    Not a Pedestrian  Changing lane to the right   \n",
       "4   Going straight    Not a Pedestrian                  Overtaking   \n",
       "\n",
       "   Accident_severity  \n",
       "0                  2  \n",
       "1                  2  \n",
       "2                  1  \n",
       "3                  2  \n",
       "4                  2  "
      ]
     },
     "execution_count": 21,
     "metadata": {},
     "output_type": "execute_result"
    }
   ],
   "source": [
    "cleaned_data = pd.read_csv(\"cleaned.csv\")\n",
    "cleaned_data.head()"
   ]
  },
  {
   "cell_type": "code",
   "execution_count": 23,
   "id": "375f5634-2914-4fc8-ada7-144b625c00dc",
   "metadata": {},
   "outputs": [
    {
     "name": "stdout",
     "output_type": "stream",
     "text": [
      "       Accident_severity\n",
      "count       12316.000000\n",
      "mean            1.832819\n",
      "std             0.406082\n",
      "min             0.000000\n",
      "25%             2.000000\n",
      "50%             2.000000\n",
      "75%             2.000000\n",
      "max             2.000000\n"
     ]
    }
   ],
   "source": [
    "print(cleaned_data.describe())\n"
   ]
  },
  {
   "cell_type": "code",
   "execution_count": 27,
   "id": "486456b6-322b-4c4e-884c-c133e7bd1f48",
   "metadata": {},
   "outputs": [
    {
     "data": {
      "text/plain": [
       "Age_band_of_driver         0\n",
       "Sex_of_driver              0\n",
       "Educational_level          0\n",
       "Vehicle_driver_relation    0\n",
       "Driving_experience         0\n",
       "Lanes_or_Medians           0\n",
       "Types_of_Junction          0\n",
       "Road_surface_type          0\n",
       "Light_conditions           0\n",
       "Weather_conditions         0\n",
       "Type_of_collision          0\n",
       "Vehicle_movement           0\n",
       "Pedestrian_movement        0\n",
       "Cause_of_accident          0\n",
       "Accident_severity          0\n",
       "dtype: int64"
      ]
     },
     "execution_count": 27,
     "metadata": {},
     "output_type": "execute_result"
    }
   ],
   "source": [
    "cleaned_data.isnull().sum()"
   ]
  },
  {
   "cell_type": "code",
   "execution_count": 29,
   "id": "53f8d598-ceb8-4fab-b624-51476bcc4df7",
   "metadata": {},
   "outputs": [
    {
     "name": "stdout",
     "output_type": "stream",
     "text": [
      "  Driving_experience Weather_conditions Road_surface_type Types_of_Junction  \\\n",
      "0              1-2yr             Normal     Asphalt roads       No junction   \n",
      "1         Above 10yr             Normal     Asphalt roads       No junction   \n",
      "2              1-2yr             Normal     Asphalt roads       No junction   \n",
      "3             5-10yr             Normal       Earth roads           Y Shape   \n",
      "4              2-5yr             Normal     Asphalt roads           Y Shape   \n",
      "\n",
      "  Age_band_of_driver  \n",
      "0              18-30  \n",
      "1              31-50  \n",
      "2              18-30  \n",
      "3              18-30  \n",
      "4              18-30  \n"
     ]
    }
   ],
   "source": [
    "#selecting reasonable dataset to use by columns\n",
    "# Defining the selected columns\n",
    "selected_columns = [\n",
    "    'Driving_experience',\n",
    "    'Weather_conditions',\n",
    "    'Road_surface_type',\n",
    "    'Types_of_Junction',\n",
    "    'Age_band_of_driver',\n",
    "]\n",
    "\n",
    "#Selecting the columns from the DataFrame\n",
    "X = cleaned_data[selected_columns]\n",
    "\n",
    "# Adding the target variable for prediction\n",
    "y = cleaned_data['Accident_severity']\n",
    "\n",
    "# Displaying the first few rows of the selected features\n",
    "print(X.head())\n"
   ]
  },
  {
   "cell_type": "code",
   "execution_count": 31,
   "id": "3c86bd4c-6673-42a0-a98a-507e24690e1d",
   "metadata": {},
   "outputs": [
    {
     "name": "stdout",
     "output_type": "stream",
     "text": [
      "   Driving_experience_2-5yr  Driving_experience_5-10yr  \\\n",
      "0                         0                          0   \n",
      "1                         0                          0   \n",
      "2                         0                          0   \n",
      "3                         0                          1   \n",
      "4                         1                          0   \n",
      "\n",
      "   Driving_experience_Above 10yr  Driving_experience_Below 1yr  \\\n",
      "0                              0                             0   \n",
      "1                              1                             0   \n",
      "2                              0                             0   \n",
      "3                              0                             0   \n",
      "4                              0                             0   \n",
      "\n",
      "   Driving_experience_No Licence  Driving_experience_Unknown  \\\n",
      "0                              0                           0   \n",
      "1                              0                           0   \n",
      "2                              0                           0   \n",
      "3                              0                           0   \n",
      "4                              0                           0   \n",
      "\n",
      "   Driving_experience_unknown  Weather_conditions_Fog or mist  \\\n",
      "0                           0                               0   \n",
      "1                           0                               0   \n",
      "2                           0                               0   \n",
      "3                           0                               0   \n",
      "4                           0                               0   \n",
      "\n",
      "   Weather_conditions_Normal  Weather_conditions_Other  ...  \\\n",
      "0                          1                         0  ...   \n",
      "1                          1                         0  ...   \n",
      "2                          1                         0  ...   \n",
      "3                          1                         0  ...   \n",
      "4                          1                         0  ...   \n",
      "\n",
      "   Types_of_Junction_O Shape  Types_of_Junction_Other  \\\n",
      "0                          0                        0   \n",
      "1                          0                        0   \n",
      "2                          0                        0   \n",
      "3                          0                        0   \n",
      "4                          0                        0   \n",
      "\n",
      "   Types_of_Junction_T Shape  Types_of_Junction_Unknown  \\\n",
      "0                          0                          0   \n",
      "1                          0                          0   \n",
      "2                          0                          0   \n",
      "3                          0                          0   \n",
      "4                          0                          0   \n",
      "\n",
      "   Types_of_Junction_X Shape  Types_of_Junction_Y Shape  \\\n",
      "0                          0                          0   \n",
      "1                          0                          0   \n",
      "2                          0                          0   \n",
      "3                          0                          1   \n",
      "4                          0                          1   \n",
      "\n",
      "   Age_band_of_driver_31-50  Age_band_of_driver_Over 51  \\\n",
      "0                         0                           0   \n",
      "1                         1                           0   \n",
      "2                         0                           0   \n",
      "3                         0                           0   \n",
      "4                         0                           0   \n",
      "\n",
      "   Age_band_of_driver_Under 18  Age_band_of_driver_Unknown  \n",
      "0                            0                           0  \n",
      "1                            0                           0  \n",
      "2                            0                           0  \n",
      "3                            0                           0  \n",
      "4                            0                           0  \n",
      "\n",
      "[5 rows x 31 columns]\n"
     ]
    }
   ],
   "source": [
    "# Selecting the relevant columns for dummy variable conversion\n",
    "columns_to_convert = [\n",
    "    'Driving_experience',\n",
    "    'Weather_conditions',\n",
    "    'Road_surface_type',\n",
    "    'Types_of_Junction',\n",
    "    'Age_band_of_driver',\n",
    "]\n",
    "\n",
    "# Creating dummy variables for the selected columns\n",
    "data_dummies = pd.get_dummies(cleaned_data[columns_to_convert], drop_first=True)\n",
    "data_dummies = data_dummies.astype(int)\n",
    "\n",
    "# Displaying the first few rows of the new DataFrame with dummy variables\n",
    "print(data_dummies.head())\n"
   ]
  },
  {
   "cell_type": "code",
   "execution_count": 33,
   "id": "a127dafb-6aa8-4161-99c6-022284c732ae",
   "metadata": {},
   "outputs": [
    {
     "name": "stdout",
     "output_type": "stream",
     "text": [
      "(9852, 31) (2464, 31)\n"
     ]
    }
   ],
   "source": [
    "#Performming visualizaation of the dataset\n",
    "from sklearn.model_selection import train_test_split\n",
    "\n",
    "# Splitting the data: 80% for training, 20% for testing\n",
    "X_train, X_test, y_train, y_test = train_test_split(data_dummies, y, test_size=0.2, random_state=42)\n",
    "\n",
    "# Checking the shape of the datasets\n",
    "print(X_train.shape, X_test.shape)"
   ]
  },
  {
   "cell_type": "code",
   "execution_count": 35,
   "id": "520776f0-5410-4d28-996f-733e85977854",
   "metadata": {},
   "outputs": [
    {
     "name": "stdout",
     "output_type": "stream",
     "text": [
      "Coefficients: [-0.02322879 -0.00170917 -0.00306283 -0.00807339  0.02402397 -0.02339513\n",
      " -0.09632181 -0.09101495 -0.12591572 -0.04627182 -0.10693038 -0.01567353\n",
      " -0.04117412 -0.14172957 -0.09699183  0.04343159 -0.00398194 -0.01596684\n",
      "  0.02071867  0.042173   -0.07014608 -0.06554792 -0.07268663  0.0073375\n",
      " -0.05894743  0.12518431 -0.04070528  0.01665688 -0.02962571 -0.05827665\n",
      "  0.05647603]\n",
      "Intercept: 2.003700354921996\n"
     ]
    }
   ],
   "source": [
    "\n",
    "# Creating the model and Fitting in the model to the training data\n",
    "from sklearn.linear_model import LinearRegression\n",
    "model = LinearRegression()\n",
    "model.fit(X_train, y_train)\n",
    "\n",
    "# Outputting the model coefficients (optional, for understanding feature importance)\n",
    "print(\"Coefficients:\", model.coef_)\n",
    "print(\"Intercept:\", model.intercept_)\n"
   ]
  },
  {
   "cell_type": "code",
   "execution_count": 37,
   "id": "598766a8-9b68-4881-a987-564b9296c49b",
   "metadata": {},
   "outputs": [
    {
     "name": "stdout",
     "output_type": "stream",
     "text": [
      "[1.77495002 1.75491546 1.85585723 1.86464819 1.85067341 1.81622204\n",
      " 1.85238119 1.76056056 1.74375852 1.82356106]\n"
     ]
    }
   ],
   "source": [
    "# Making predictions on the test set\n",
    "y_pred = model.predict(X_test)\n",
    "\n",
    "# Displaying the first few predicted values\n",
    "print(y_pred[:10])\n"
   ]
  },
  {
   "cell_type": "code",
   "execution_count": 39,
   "id": "499f8abe-651b-452f-8622-df39e369012e",
   "metadata": {},
   "outputs": [
    {
     "name": "stdout",
     "output_type": "stream",
     "text": [
      "Mean Squared Error: 0.17475270190715697\n",
      "R² Score: 0.006702916693007377\n"
     ]
    }
   ],
   "source": [
    "# Evaluating the model\n",
    "from sklearn.metrics import mean_squared_error, r2_score\n",
    "mse = mean_squared_error(y_test, y_pred)\n",
    "r2 = r2_score(y_test, y_pred)\n",
    "\n",
    "print(f\"Mean Squared Error: {mse}\")\n",
    "print(f\"R² Score: {r2}\")\n"
   ]
  },
  {
   "cell_type": "code",
   "execution_count": 41,
   "id": "bf57c853-1fe0-4ddd-bbbc-77bbd7f71a46",
   "metadata": {},
   "outputs": [
    {
     "data": {
      "text/plain": [
       "['accident_severity_model.pkl']"
      ]
     },
     "execution_count": 41,
     "metadata": {},
     "output_type": "execute_result"
    }
   ],
   "source": [
    "import joblib\n",
    "\n",
    "# Saving the model to a file\n",
    "joblib.dump(model, 'accident_severity_model.pkl')"
   ]
  },
  {
   "cell_type": "code",
   "execution_count": 43,
   "id": "c5f56e37-712a-46f6-82ae-c37a5837691d",
   "metadata": {},
   "outputs": [
    {
     "name": "stdout",
     "output_type": "stream",
     "text": [
      "['Driving_experience_2-5yr' 'Driving_experience_5-10yr'\n",
      " 'Driving_experience_Above 10yr' 'Driving_experience_Below 1yr'\n",
      " 'Driving_experience_No Licence' 'Driving_experience_Unknown'\n",
      " 'Driving_experience_unknown' 'Weather_conditions_Fog or mist'\n",
      " 'Weather_conditions_Normal' 'Weather_conditions_Other'\n",
      " 'Weather_conditions_Raining' 'Weather_conditions_Raining and Windy'\n",
      " 'Weather_conditions_Snow' 'Weather_conditions_Unknown'\n",
      " 'Weather_conditions_Windy'\n",
      " 'Road_surface_type_Asphalt roads with some distress'\n",
      " 'Road_surface_type_Earth roads' 'Road_surface_type_Gravel roads'\n",
      " 'Road_surface_type_Other' 'Road_surface_type_Unknown'\n",
      " 'Types_of_Junction_No junction' 'Types_of_Junction_O Shape'\n",
      " 'Types_of_Junction_Other' 'Types_of_Junction_T Shape'\n",
      " 'Types_of_Junction_Unknown' 'Types_of_Junction_X Shape'\n",
      " 'Types_of_Junction_Y Shape' 'Age_band_of_driver_31-50'\n",
      " 'Age_band_of_driver_Over 51' 'Age_band_of_driver_Under 18'\n",
      " 'Age_band_of_driver_Unknown']\n"
     ]
    }
   ],
   "source": [
    "#checking for the feauture names\n",
    "print(model.feature_names_in_)\n"
   ]
  },
  {
   "cell_type": "code",
   "execution_count": 47,
   "id": "55f0d33d-8428-403c-97a1-44fe63fa31d3",
   "metadata": {},
   "outputs": [
    {
     "name": "stdout",
     "output_type": "stream",
     "text": [
      "Predicted Accident Severity: 1.9219818185022308\n"
     ]
    }
   ],
   "source": [
    "# This the hypothetical data I use for prediction (fill missing features with 0)\n",
    "hypothetical_input = pd.DataFrame({\n",
    "    'Driving_experience_2-5yr': [1],\n",
    "    'Driving_experience_5-10yr': [0],\n",
    "    'Driving_experience_Above 10yr': [0],\n",
    "    'Driving_experience_Below 1yr': [0],\n",
    "    'Driving_experience_No Licence': [0],\n",
    "    'Driving_experience_Unknown': [0],\n",
    "    'Driving_experience_unknown': [0],\n",
    "    'Weather_conditions_Fog or mist': [0],\n",
    "    'Weather_conditions_Normal': [1],\n",
    "    'Weather_conditions_Other': [0],\n",
    "    'Weather_conditions_Raining': [0],\n",
    "    'Weather_conditions_Raining and Windy': [0],\n",
    "    'Weather_conditions_Snow': [0],\n",
    "    'Weather_conditions_Unknown': [0],\n",
    "    'Weather_conditions_Windy': [0],\n",
    "    'Road_surface_type_Asphalt roads with some distress': [1],\n",
    "    'Road_surface_type_Earth roads': [0],\n",
    "    'Road_surface_type_Gravel roads': [0],\n",
    "    'Road_surface_type_Other': [0],\n",
    "    'Road_surface_type_Unknown': [0],\n",
    "    'Types_of_Junction_No junction': [0],\n",
    "    'Types_of_Junction_O Shape': [0],\n",
    "    'Types_of_Junction_Other': [0],\n",
    "    'Types_of_Junction_T Shape': [1],\n",
    "    'Types_of_Junction_Unknown': [0],\n",
    "    'Types_of_Junction_X Shape': [0],\n",
    "    'Types_of_Junction_Y Shape': [0],\n",
    "    'Age_band_of_driver_31-50': [1],\n",
    "    'Age_band_of_driver_Over 51': [0],\n",
    "    'Age_band_of_driver_Under 18': [0],\n",
    "    'Age_band_of_driver_Unknown': [0]\n",
    "})\n",
    "\n",
    "# Predict accident severity for the hypothetical input\n",
    "predicted_severity = model.predict(hypothetical_input)\n",
    "print(f'Predicted Accident Severity: {predicted_severity[0]}')\n"
   ]
  },
  {
   "cell_type": "code",
   "execution_count": null,
   "id": "176059b2-00ec-4c39-b585-1d69766074ec",
   "metadata": {},
   "outputs": [],
   "source": [
    "#this value  1.9219818185022308 shows that the accident is sever"
   ]
  }
 ],
 "metadata": {
  "kernelspec": {
   "display_name": "Python 3 (ipykernel)",
   "language": "python",
   "name": "python3"
  },
  "language_info": {
   "codemirror_mode": {
    "name": "ipython",
    "version": 3
   },
   "file_extension": ".py",
   "mimetype": "text/x-python",
   "name": "python",
   "nbconvert_exporter": "python",
   "pygments_lexer": "ipython3",
   "version": "3.12.4"
  }
 },
 "nbformat": 4,
 "nbformat_minor": 5
}
